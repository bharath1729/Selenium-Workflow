{
 "cells": [
  {
   "cell_type": "code",
   "execution_count": 31,
   "metadata": {},
   "outputs": [],
   "source": [
    "from selenium import webdriver\n",
    "from selenium.webdriver.firefox.service import Service\n",
    "from selenium.webdriver.firefox.options import Options\n",
    "from selenium.webdriver.support.wait import WebDriverWait\n",
    "from webdriver_manager.firefox import GeckoDriverManager\n",
    "from selenium.webdriver.common.by import By\n",
    "import time,os\n",
    "from dotenv import load_dotenv\n",
    "\n",
    "import requests\n",
    "import time\n",
    "from bs4 import BeautifulSoup\n",
    "\n",
    "from twilio.rest import Client\n",
    "\n",
    "# Your Twilio account SID and auth token\n",
    "account_sid = 'AC456d58d8a126e03030ba7dac3dc3930f'\n",
    "auth_token = 'cebfde1985621293eee0bd214e326482'\n",
    "\n",
    "# Create a Twilio client object\n",
    "client = Client(account_sid, auth_token)\n",
    "\n",
    "load_dotenv()\n",
    "\n",
    "webdriver.DesiredCapabilities.FIREFOX['proxy'] = {\n",
    "\"proxyType\": \"pac\",\n",
    "\"proxyAutoconfigUrl\": \"https://remote.iitm.ac.in:8371/proxy.pac\"\n",
    "}\n",
    "\n",
    "driver = webdriver.Firefox(service=Service(GeckoDriverManager().install()), options=Options())\n",
    "driver.get(\"http://workflow.iitm.ac.in/student\")"
   ]
  },
  {
   "cell_type": "code",
   "execution_count": 33,
   "metadata": {},
   "outputs": [],
   "source": [
    "uname = driver.find_element(\"xpath\",\"\"\"//*[@id=\"txtUserName\"]\"\"\")\n",
    "uname.send_keys(os.environ['rollno'])\n",
    "\n",
    "pwd = driver.find_element(\"xpath\",\"\"\"//*[@id=\"txtPassword\"]\"\"\")\n",
    "pwd.send_keys(os.environ['password'])\n",
    "\n",
    "login = driver.find_element(\"xpath\",\"\"\"//*[@id=\"Login\"]\"\"\")\n",
    "login.click()\n",
    "\n",
    "x = driver.find_element(\"xpath\",\"\"\"/html/body/form/div[5]/div/ul/li[6]/a/span\"\"\")\n",
    "x.click()"
   ]
  },
  {
   "cell_type": "code",
   "execution_count": 34,
   "metadata": {},
   "outputs": [
    {
     "ename": "WebDriverException",
     "evalue": "Message: Reached error page: about:neterror?e=proxyResolveFailure&u=https%3A//workflow.iitm.ac.in/student/AddDropCourses.aspx&c=UTF-8&d=Firefox%20is%20configured%20to%20use%20a%20proxy%20server%20that%20can%E2%80%99t%20be%20found.\nStacktrace:\nRemoteError@chrome://remote/content/shared/RemoteError.sys.mjs:8:8\nWebDriverError@chrome://remote/content/shared/webdriver/Errors.sys.mjs:187:5\nUnknownError@chrome://remote/content/shared/webdriver/Errors.sys.mjs:736:5\ncheckReadyState@chrome://remote/content/marionette/navigate.sys.mjs:61:24\nonNavigation@chrome://remote/content/marionette/navigate.sys.mjs:329:39\nemit@resource://gre/modules/EventEmitter.sys.mjs:154:20\nreceiveMessage@chrome://remote/content/marionette/actors/MarionetteEventsParent.sys.mjs:35:25\n",
     "output_type": "error",
     "traceback": [
      "\u001b[0;31m---------------------------------------------------------------------------\u001b[0m",
      "\u001b[0;31mWebDriverException\u001b[0m                        Traceback (most recent call last)",
      "Cell \u001b[0;32mIn[34], line 23\u001b[0m\n\u001b[1;32m     20\u001b[0m             \u001b[39mprint\u001b[39m(ccode,time\u001b[39m.\u001b[39mnow())\n\u001b[1;32m     21\u001b[0m         f\u001b[39m.\u001b[39mwrite(i\u001b[39m.\u001b[39mfind_element(By\u001b[39m.\u001b[39mCLASS_NAME,\u001b[39m\"\u001b[39m\u001b[39mlblCourseNo\u001b[39m\u001b[39m\"\u001b[39m)\u001b[39m.\u001b[39mtext\u001b[39m+\u001b[39m\u001b[39m\"\u001b[39m\u001b[39m\\n\u001b[39;00m\u001b[39m\"\u001b[39m)\n\u001b[0;32m---> 23\u001b[0m driver\u001b[39m.\u001b[39;49mrefresh()\n",
      "File \u001b[0;32m~/Library/Python/3.9/lib/python/site-packages/selenium/webdriver/remote/webdriver.py:684\u001b[0m, in \u001b[0;36mWebDriver.refresh\u001b[0;34m(self)\u001b[0m\n\u001b[1;32m    675\u001b[0m \u001b[39mdef\u001b[39;00m \u001b[39mrefresh\u001b[39m(\u001b[39mself\u001b[39m) \u001b[39m-\u001b[39m\u001b[39m>\u001b[39m \u001b[39mNone\u001b[39;00m:\n\u001b[1;32m    676\u001b[0m \u001b[39m    \u001b[39m\u001b[39m\"\"\"\u001b[39;00m\n\u001b[1;32m    677\u001b[0m \u001b[39m    Refreshes the current page.\u001b[39;00m\n\u001b[1;32m    678\u001b[0m \n\u001b[0;32m   (...)\u001b[0m\n\u001b[1;32m    682\u001b[0m \u001b[39m            driver.refresh()\u001b[39;00m\n\u001b[1;32m    683\u001b[0m \u001b[39m    \"\"\"\u001b[39;00m\n\u001b[0;32m--> 684\u001b[0m     \u001b[39mself\u001b[39;49m\u001b[39m.\u001b[39;49mexecute(Command\u001b[39m.\u001b[39;49mREFRESH)\n",
      "File \u001b[0;32m~/Library/Python/3.9/lib/python/site-packages/selenium/webdriver/remote/webdriver.py:444\u001b[0m, in \u001b[0;36mWebDriver.execute\u001b[0;34m(self, driver_command, params)\u001b[0m\n\u001b[1;32m    442\u001b[0m response \u001b[39m=\u001b[39m \u001b[39mself\u001b[39m\u001b[39m.\u001b[39mcommand_executor\u001b[39m.\u001b[39mexecute(driver_command, params)\n\u001b[1;32m    443\u001b[0m \u001b[39mif\u001b[39;00m response:\n\u001b[0;32m--> 444\u001b[0m     \u001b[39mself\u001b[39;49m\u001b[39m.\u001b[39;49merror_handler\u001b[39m.\u001b[39;49mcheck_response(response)\n\u001b[1;32m    445\u001b[0m     response[\u001b[39m\"\u001b[39m\u001b[39mvalue\u001b[39m\u001b[39m\"\u001b[39m] \u001b[39m=\u001b[39m \u001b[39mself\u001b[39m\u001b[39m.\u001b[39m_unwrap_value(response\u001b[39m.\u001b[39mget(\u001b[39m\"\u001b[39m\u001b[39mvalue\u001b[39m\u001b[39m\"\u001b[39m, \u001b[39mNone\u001b[39;00m))\n\u001b[1;32m    446\u001b[0m     \u001b[39mreturn\u001b[39;00m response\n",
      "File \u001b[0;32m~/Library/Python/3.9/lib/python/site-packages/selenium/webdriver/remote/errorhandler.py:249\u001b[0m, in \u001b[0;36mErrorHandler.check_response\u001b[0;34m(self, response)\u001b[0m\n\u001b[1;32m    247\u001b[0m         alert_text \u001b[39m=\u001b[39m value[\u001b[39m\"\u001b[39m\u001b[39malert\u001b[39m\u001b[39m\"\u001b[39m]\u001b[39m.\u001b[39mget(\u001b[39m\"\u001b[39m\u001b[39mtext\u001b[39m\u001b[39m\"\u001b[39m)\n\u001b[1;32m    248\u001b[0m     \u001b[39mraise\u001b[39;00m exception_class(message, screen, stacktrace, alert_text)  \u001b[39m# type: ignore[call-arg]  # mypy is not smart enough here\u001b[39;00m\n\u001b[0;32m--> 249\u001b[0m \u001b[39mraise\u001b[39;00m exception_class(message, screen, stacktrace)\n",
      "\u001b[0;31mWebDriverException\u001b[0m: Message: Reached error page: about:neterror?e=proxyResolveFailure&u=https%3A//workflow.iitm.ac.in/student/AddDropCourses.aspx&c=UTF-8&d=Firefox%20is%20configured%20to%20use%20a%20proxy%20server%20that%20can%E2%80%99t%20be%20found.\nStacktrace:\nRemoteError@chrome://remote/content/shared/RemoteError.sys.mjs:8:8\nWebDriverError@chrome://remote/content/shared/webdriver/Errors.sys.mjs:187:5\nUnknownError@chrome://remote/content/shared/webdriver/Errors.sys.mjs:736:5\ncheckReadyState@chrome://remote/content/marionette/navigate.sys.mjs:61:24\nonNavigation@chrome://remote/content/marionette/navigate.sys.mjs:329:39\nemit@resource://gre/modules/EventEmitter.sys.mjs:154:20\nreceiveMessage@chrome://remote/content/marionette/actors/MarionetteEventsParent.sys.mjs:35:25\n"
     ]
    }
   ],
   "source": [
    "while(True):\n",
    "    y = driver.find_element(\"xpath\",\"\"\"//*[@id=\"btnViewAvailablityElec\"]\"\"\")\n",
    "    y.click()\n",
    "\n",
    "    time.sleep(5)\n",
    "\n",
    "    z = driver.switch_to.frame(\"ifElectiveCourses\")\n",
    "\n",
    "    z = driver.find_elements(\"xpath\",\"\"\"//*[@id=\"courseDetails\"]\"\"\")\n",
    "\n",
    "    with open(\"./courses.txt\", \"w\") as f:\n",
    "        for i in z:\n",
    "            ccode = i.find_element(By.CLASS_NAME,\"lblCourseNo\").text\n",
    "            if(ccode==\"HS5340\" or ccode==\"CS6111\"):\n",
    "                client.calls.create(\n",
    "                    url='http://demo.twilio.com/docs/voice.xml',\n",
    "                    to='+916305520922',\n",
    "                    from_='+16073576154'\n",
    "                )\n",
    "                print(ccode)\n",
    "            f.write(i.find_element(By.CLASS_NAME,\"lblCourseNo\").text+\"\\n\")\n",
    "\n",
    "    driver.refresh()"
   ]
  }
 ],
 "metadata": {
  "kernelspec": {
   "display_name": "Python 3",
   "language": "python",
   "name": "python3"
  },
  "language_info": {
   "codemirror_mode": {
    "name": "ipython",
    "version": 3
   },
   "file_extension": ".py",
   "mimetype": "text/x-python",
   "name": "python",
   "nbconvert_exporter": "python",
   "pygments_lexer": "ipython3",
   "version": "3.9.6"
  },
  "orig_nbformat": 4
 },
 "nbformat": 4,
 "nbformat_minor": 2
}
